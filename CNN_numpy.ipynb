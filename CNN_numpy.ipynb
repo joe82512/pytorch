{
  "nbformat": 4,
  "nbformat_minor": 0,
  "metadata": {
    "colab": {
      "provenance": [],
      "authorship_tag": "ABX9TyMioMk5b8dpPOlBSFs6MTIy"
    },
    "kernelspec": {
      "name": "python3",
      "display_name": "Python 3"
    },
    "language_info": {
      "name": "python"
    }
  },
  "cells": [
    {
      "cell_type": "code",
      "source": [
        "# Ref:https://victorzhou.com/blog/intro-to-cnns-part-1/\n",
        "# Ref:https://victorzhou.com/blog/intro-to-cnns-part-2/\n",
        "import numpy as np"
      ],
      "metadata": {
        "id": "ZYMtuMbR_Odf"
      },
      "execution_count": null,
      "outputs": []
    },
    {
      "cell_type": "code",
      "source": [
        "class Conv3x3:    \n",
        "    def __init__(self, num_filters):\n",
        "        self.num_filters = num_filters\n",
        "        self.filters = np.random.randn(num_filters, 3, 3) / 9\n",
        "        \n",
        "    def iterate_regions(self, image):\n",
        "        h, w = image.shape        \n",
        "        for i in range(h-3+1):\n",
        "            for j in range(w-3+1):\n",
        "                im_region = image[i:(i + 3), j:(j + 3)]\n",
        "                yield im_region, i, j\n",
        "                \n",
        "    def forward(self, input):\n",
        "        self.last_input = input\n",
        "        h, w = input.shape\n",
        "        output = np.zeros((h-3+1, w-3+1, self.num_filters))\n",
        "        \n",
        "        for im_region, i, j in self.iterate_regions(input):\n",
        "            output[i, j] = np.sum(im_region * self.filters, axis=(1, 2))\n",
        "            \n",
        "        return output\n",
        "    \n",
        "    def backprop(self, d_L_d_out, learn_rate):\n",
        "        d_L_d_filters = np.zeros(self.filters.shape)\n",
        "        \n",
        "        for im_region, i, j in self.iterate_regions(self.last_input):\n",
        "            for f in range(self.num_filters):\n",
        "                d_L_d_filters[f] += d_L_d_out[i, j, f] * im_region\n",
        "                \n",
        "        self.filters -= learn_rate * d_L_d_filters\n",
        "\n",
        "        return None"
      ],
      "metadata": {
        "id": "lKZo41Q5_bAx"
      },
      "execution_count": null,
      "outputs": []
    },
    {
      "cell_type": "code",
      "source": [
        "class MaxPool2:\n",
        "    def iterate_regions(self, image):        \n",
        "        h, w, _ = image.shape\n",
        "        new_h = h // 2\n",
        "        new_w = w // 2\n",
        "\n",
        "        for i in range(new_h):\n",
        "            for j in range(new_w):\n",
        "                im_region = image[(i * 2):(i * 2 + 2), (j * 2):(j * 2 + 2)]\n",
        "                yield im_region, i, j\n",
        "\n",
        "    def forward(self, input):\n",
        "        self.last_input = input\n",
        "        \n",
        "        h, w, num_filters = input.shape\n",
        "        output = np.zeros((h // 2, w // 2, num_filters))\n",
        "\n",
        "        for im_region, i, j in self.iterate_regions(input):\n",
        "            output[i, j] = np.amax(im_region, axis=(0, 1))\n",
        "        \n",
        "        return output\n",
        "        \n",
        "    def backprop(self, d_L_d_out):        \n",
        "        d_L_d_input = np.zeros(self.last_input.shape)\n",
        "        \n",
        "        for im_region, i, j in self.iterate_regions(self.last_input):\n",
        "            h, w, f = im_region.shape\n",
        "            amax = np.amax(im_region, axis=(0, 1))\n",
        "            \n",
        "            for i2 in range(h):\n",
        "                for j2 in range(w):\n",
        "                    for f2 in range(f):\n",
        "                        if im_region[i2, j2, f2] == amax[f2]:\n",
        "                            d_L_d_input[i + i2, j + j2, f2] = d_L_d_out[i, j, f2]\n",
        "                            \n",
        "        return d_L_d_input"
      ],
      "metadata": {
        "id": "gbnlGedk_smF"
      },
      "execution_count": null,
      "outputs": []
    },
    {
      "cell_type": "code",
      "source": [
        "class Softmax:\n",
        "    def __init__(self, input_len, nodes):       \n",
        "        self.weights = np.random.randn(input_len, nodes) / input_len\n",
        "        self.biases = np.zeros(nodes)\n",
        "\n",
        "    def forward(self, input):        \n",
        "        self.last_input_shape = input.shape\n",
        "        input = input.flatten()\n",
        "        self.last_input = input\n",
        "        input_len, nodes = self.weights.shape\n",
        "        totals = np.dot(input, self.weights) + self.biases\n",
        "        self.last_totals = totals\n",
        "        \n",
        "        exp = np.exp(totals)\n",
        "        return exp / np.sum(exp, axis=0)\n",
        "    \n",
        "    def backprop(self, d_L_d_out, learn_rate):\n",
        "        for i, gradient in enumerate(d_L_d_out):\n",
        "            if gradient == 0:\n",
        "                continue\n",
        "        \n",
        "            t_exp = np.exp(self.last_totals)\n",
        "            S = np.sum(t_exp)\n",
        "            d_out_d_t = -t_exp[i] * t_exp / (S ** 2)\n",
        "            d_out_d_t[i] = t_exp[i] * (S - t_exp[i]) / (S ** 2)\n",
        "            d_t_d_w = self.last_input\n",
        "            d_t_d_b = 1\n",
        "            d_t_d_inputs = self.weights\n",
        "            d_L_d_t = gradient * d_out_d_t\n",
        "            d_L_d_w = d_t_d_w[np.newaxis].T @ d_L_d_t[np.newaxis]\n",
        "            d_L_d_b = d_L_d_t * d_t_d_b\n",
        "            d_L_d_inputs = d_t_d_inputs @ d_L_d_t\n",
        "        \n",
        "            self.weights -= learn_rate * d_L_d_w\n",
        "            self.biases -= learn_rate * d_L_d_b\n",
        "            \n",
        "            return d_L_d_inputs.reshape(self.last_input_shape)"
      ],
      "metadata": {
        "id": "HPYlUOBA_5hr"
      },
      "execution_count": null,
      "outputs": []
    },
    {
      "cell_type": "code",
      "source": [
        "# get MNIST data\n",
        "import tensorflow as tf\n",
        "mn = tf.keras.datasets.mnist\n",
        "(train_images,train_labels),(test_images,test_labels) = mn.load_data() #6000,1000\n",
        "train_images,train_labels = train_images[:1000],train_labels[:1000]"
      ],
      "metadata": {
        "id": "RJwOWpZeAXCJ",
        "colab": {
          "base_uri": "https://localhost:8080/"
        },
        "outputId": "f54ce4ba-9e5f-4957-f2b4-4ddf1906e47b"
      },
      "execution_count": null,
      "outputs": [
        {
          "output_type": "stream",
          "name": "stdout",
          "text": [
            "Downloading data from https://storage.googleapis.com/tensorflow/tf-keras-datasets/mnist.npz\n",
            "11493376/11490434 [==============================] - 0s 0us/step\n",
            "11501568/11490434 [==============================] - 0s 0us/step\n"
          ]
        }
      ]
    },
    {
      "cell_type": "code",
      "source": [
        "conv = Conv3x3(8)\n",
        "pool = MaxPool2()\n",
        "softmax = Softmax(13 * 13 * 8, 10)"
      ],
      "metadata": {
        "id": "d7b-W1nBCh4b"
      },
      "execution_count": null,
      "outputs": []
    },
    {
      "cell_type": "code",
      "source": [
        "def forward(image, label):\n",
        "    out = conv.forward((image / 255) - 0.5)\n",
        "    out = pool.forward(out)\n",
        "    out = softmax.forward(out)\n",
        "\n",
        "    loss = -np.log(out[label])\n",
        "    acc = 1 if np.argmax(out) == label else 0\n",
        "\n",
        "    return out, loss, acc\n",
        "\n",
        "def train(im, label, lr=.005):\n",
        "    out, loss, acc = forward(im, label)\n",
        "\n",
        "    gradient = np.zeros(10)\n",
        "    gradient[label] = -1 / out[label]\n",
        "    \n",
        "    gradient = softmax.backprop(gradient, lr)\n",
        "    gradient = pool.backprop(gradient)\n",
        "    gradient = conv.backprop(gradient, lr)\n",
        "    \n",
        "    return loss, acc"
      ],
      "metadata": {
        "id": "pVb7h_3UDMWD"
      },
      "execution_count": null,
      "outputs": []
    },
    {
      "cell_type": "code",
      "source": [
        "for epoch in range(3):\n",
        "    print('--- Epoch %d ---' % (epoch + 1))\n",
        "    \n",
        "    # Shuffle the training data\n",
        "    permutation = np.random.permutation(len(train_images))\n",
        "    train_images = train_images[permutation]\n",
        "    train_labels = train_labels[permutation]\n",
        "    \n",
        "    # Train\n",
        "    loss = 0\n",
        "    num_correct = 0\n",
        "    # i: index\n",
        "    # im: image\n",
        "    # label: label\n",
        "    for i, (im, label) in enumerate(zip(train_images, train_labels)):\n",
        "        if i > 0 and i % 100 == 99:\n",
        "            print(\n",
        "                '[Step %d] Past 100 steps: Average Loss %.3f | Accuracy: %d%%' %\n",
        "                (i + 1, loss / 100, num_correct)\n",
        "            )\n",
        "            loss = 0\n",
        "            num_correct = 0\n",
        "\n",
        "        l, acc = train(im, label)\n",
        "        loss += 1\n",
        "        num_correct += acc"
      ],
      "metadata": {
        "colab": {
          "base_uri": "https://localhost:8080/"
        },
        "id": "zSIwgU1tDXmh",
        "outputId": "9b83ffe6-e6f3-4734-f989-b014c55f285e"
      },
      "execution_count": null,
      "outputs": [
        {
          "output_type": "stream",
          "name": "stdout",
          "text": [
            "--- Epoch 1 ---\n",
            "[Step 100] Past 100 steps: Average Loss 0.990 | Accuracy: 20%\n",
            "[Step 200] Past 100 steps: Average Loss 1.000 | Accuracy: 38%\n",
            "[Step 300] Past 100 steps: Average Loss 1.000 | Accuracy: 49%\n",
            "[Step 400] Past 100 steps: Average Loss 1.000 | Accuracy: 49%\n",
            "[Step 500] Past 100 steps: Average Loss 1.000 | Accuracy: 66%\n",
            "[Step 600] Past 100 steps: Average Loss 1.000 | Accuracy: 65%\n",
            "[Step 700] Past 100 steps: Average Loss 1.000 | Accuracy: 75%\n",
            "[Step 800] Past 100 steps: Average Loss 1.000 | Accuracy: 87%\n",
            "[Step 900] Past 100 steps: Average Loss 1.000 | Accuracy: 76%\n",
            "[Step 1000] Past 100 steps: Average Loss 1.000 | Accuracy: 84%\n",
            "--- Epoch 2 ---\n",
            "[Step 100] Past 100 steps: Average Loss 0.990 | Accuracy: 80%\n",
            "[Step 200] Past 100 steps: Average Loss 1.000 | Accuracy: 77%\n",
            "[Step 300] Past 100 steps: Average Loss 1.000 | Accuracy: 89%\n",
            "[Step 400] Past 100 steps: Average Loss 1.000 | Accuracy: 84%\n",
            "[Step 500] Past 100 steps: Average Loss 1.000 | Accuracy: 83%\n",
            "[Step 600] Past 100 steps: Average Loss 1.000 | Accuracy: 81%\n",
            "[Step 700] Past 100 steps: Average Loss 1.000 | Accuracy: 80%\n",
            "[Step 800] Past 100 steps: Average Loss 1.000 | Accuracy: 84%\n",
            "[Step 900] Past 100 steps: Average Loss 1.000 | Accuracy: 84%\n",
            "[Step 1000] Past 100 steps: Average Loss 1.000 | Accuracy: 88%\n",
            "--- Epoch 3 ---\n",
            "[Step 100] Past 100 steps: Average Loss 0.990 | Accuracy: 94%\n",
            "[Step 200] Past 100 steps: Average Loss 1.000 | Accuracy: 91%\n",
            "[Step 300] Past 100 steps: Average Loss 1.000 | Accuracy: 82%\n",
            "[Step 400] Past 100 steps: Average Loss 1.000 | Accuracy: 90%\n",
            "[Step 500] Past 100 steps: Average Loss 1.000 | Accuracy: 85%\n",
            "[Step 600] Past 100 steps: Average Loss 1.000 | Accuracy: 80%\n",
            "[Step 700] Past 100 steps: Average Loss 1.000 | Accuracy: 83%\n",
            "[Step 800] Past 100 steps: Average Loss 1.000 | Accuracy: 79%\n",
            "[Step 900] Past 100 steps: Average Loss 1.000 | Accuracy: 88%\n",
            "[Step 1000] Past 100 steps: Average Loss 1.000 | Accuracy: 89%\n"
          ]
        }
      ]
    },
    {
      "cell_type": "code",
      "source": [
        "loss = 0\n",
        "num_correct = 0\n",
        "for im, label in zip(test_images, test_labels):\n",
        "    _, l, acc = forward(im, label)\n",
        "    loss += l\n",
        "    num_correct += acc\n",
        "\n",
        "num_tests = len(test_images)\n",
        "print('Test Loss:', loss / num_tests)\n",
        "print('Test Accuracy:', num_correct / num_tests)"
      ],
      "metadata": {
        "colab": {
          "base_uri": "https://localhost:8080/"
        },
        "id": "0mAO5wCWDfcH",
        "outputId": "92f75fe6-bae9-4363-bd5f-24214d0d6e26"
      },
      "execution_count": null,
      "outputs": [
        {
          "output_type": "stream",
          "name": "stdout",
          "text": [
            "Test Loss: 0.540440411830178\n",
            "Test Accuracy: 0.8166\n"
          ]
        }
      ]
    }
  ]
}